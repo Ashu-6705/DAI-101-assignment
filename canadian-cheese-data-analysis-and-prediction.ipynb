{
 "cells": [
  {
   "cell_type": "markdown",
   "id": "adb34970",
   "metadata": {
    "papermill": {
     "duration": 0.005142,
     "end_time": "2024-09-27T16:07:18.874153",
     "exception": false,
     "start_time": "2024-09-27T16:07:18.869011",
     "status": "completed"
    },
    "tags": []
   },
   "source": [
    "### The Canadian Cheese Directory: A Gouda Place to Start\n",
    "\n",
    "Cheese, a beloved dairy product, has a rich history and a variety of flavors, textures, and forms. The Canadian Cheese Directory offers a fascinating glimpse into the world of Canadian cheese. This notebook aims to explore this dataset, uncover interesting insights, and perhaps even predict some cheese characteristics. If you find this notebook useful, please upvote it."
   ]
  },
  {
   "cell_type": "code",
   "execution_count": 1,
   "id": "7b4a69cb",
   "metadata": {
    "execution": {
     "iopub.execute_input": "2024-09-27T16:07:18.885852Z",
     "iopub.status.busy": "2024-09-27T16:07:18.885376Z",
     "iopub.status.idle": "2024-09-27T16:07:18.896891Z",
     "shell.execute_reply": "2024-09-27T16:07:18.895802Z"
    },
    "papermill": {
     "duration": 0.019962,
     "end_time": "2024-09-27T16:07:18.899088",
     "exception": false,
     "start_time": "2024-09-27T16:07:18.879126",
     "status": "completed"
    },
    "tags": []
   },
   "outputs": [],
   "source": [
    "# Suppress warnings\n",
    "import warnings\n",
    "warnings.filterwarnings('ignore')"
   ]
  },
  {
   "cell_type": "code",
   "execution_count": 2,
   "id": "53ebb7a3",
   "metadata": {
    "execution": {
     "iopub.execute_input": "2024-09-27T16:07:18.909764Z",
     "iopub.status.busy": "2024-09-27T16:07:18.909406Z",
     "iopub.status.idle": "2024-09-27T16:07:21.619623Z",
     "shell.execute_reply": "2024-09-27T16:07:21.618392Z"
    },
    "papermill": {
     "duration": 2.718389,
     "end_time": "2024-09-27T16:07:21.622205",
     "exception": false,
     "start_time": "2024-09-27T16:07:18.903816",
     "status": "completed"
    },
    "tags": []
   },
   "outputs": [],
   "source": [
    "# Import necessary libraries\n",
    "import pandas as pd\n",
    "import numpy as np\n",
    "import matplotlib.pyplot as plt\n",
    "import seaborn as sns\n",
    "from sklearn.model_selection import train_test_split\n",
    "from sklearn.ensemble import RandomForestClassifier\n",
    "from sklearn.metrics import accuracy_score, classification_report, confusion_matrix"
   ]
  },
  {
   "cell_type": "code",
   "execution_count": 3,
   "id": "5844d163",
   "metadata": {
    "execution": {
     "iopub.execute_input": "2024-09-27T16:07:21.634114Z",
     "iopub.status.busy": "2024-09-27T16:07:21.633528Z",
     "iopub.status.idle": "2024-09-27T16:07:21.664005Z",
     "shell.execute_reply": "2024-09-27T16:07:21.663058Z"
    },
    "papermill": {
     "duration": 0.039258,
     "end_time": "2024-09-27T16:07:21.666739",
     "exception": false,
     "start_time": "2024-09-27T16:07:21.627481",
     "status": "completed"
    },
    "tags": []
   },
   "outputs": [],
   "source": [
    "# Load the dataset\n",
    "file_path = '/kaggle/input/canadian-cheese-directory/cheese_data.csv'\n",
    "df = pd.read_csv(file_path)"
   ]
  },
  {
   "cell_type": "markdown",
   "id": "5eba2a80",
   "metadata": {
    "papermill": {
     "duration": 0.005058,
     "end_time": "2024-09-27T16:07:21.677486",
     "exception": false,
     "start_time": "2024-09-27T16:07:21.672428",
     "status": "completed"
    },
    "tags": []
   },
   "source": [
    "### Initial Data Exploration\n",
    "\n",
    "Let's take a first look at the dataset to understand its structure and contents."
   ]
  },
  {
   "cell_type": "code",
   "execution_count": 4,
   "id": "6221c197",
   "metadata": {
    "execution": {
     "iopub.execute_input": "2024-09-27T16:07:21.689041Z",
     "iopub.status.busy": "2024-09-27T16:07:21.688627Z",
     "iopub.status.idle": "2024-09-27T16:07:21.717131Z",
     "shell.execute_reply": "2024-09-27T16:07:21.716053Z"
    },
    "papermill": {
     "duration": 0.037281,
     "end_time": "2024-09-27T16:07:21.719628",
     "exception": false,
     "start_time": "2024-09-27T16:07:21.682347",
     "status": "completed"
    },
    "tags": []
   },
   "outputs": [
    {
     "data": {
      "text/html": [
       "<div>\n",
       "<style scoped>\n",
       "    .dataframe tbody tr th:only-of-type {\n",
       "        vertical-align: middle;\n",
       "    }\n",
       "\n",
       "    .dataframe tbody tr th {\n",
       "        vertical-align: top;\n",
       "    }\n",
       "\n",
       "    .dataframe thead th {\n",
       "        text-align: right;\n",
       "    }\n",
       "</style>\n",
       "<table border=\"1\" class=\"dataframe\">\n",
       "  <thead>\n",
       "    <tr style=\"text-align: right;\">\n",
       "      <th></th>\n",
       "      <th>CheeseId</th>\n",
       "      <th>ManufacturerProvCode</th>\n",
       "      <th>ManufacturingTypeEn</th>\n",
       "      <th>MoisturePercent</th>\n",
       "      <th>FlavourEn</th>\n",
       "      <th>CharacteristicsEn</th>\n",
       "      <th>Organic</th>\n",
       "      <th>CategoryTypeEn</th>\n",
       "      <th>MilkTypeEn</th>\n",
       "      <th>MilkTreatmentTypeEn</th>\n",
       "      <th>RindTypeEn</th>\n",
       "      <th>CheeseName</th>\n",
       "      <th>FatLevel</th>\n",
       "    </tr>\n",
       "  </thead>\n",
       "  <tbody>\n",
       "    <tr>\n",
       "      <th>0</th>\n",
       "      <td>228</td>\n",
       "      <td>NB</td>\n",
       "      <td>Farmstead</td>\n",
       "      <td>47.0</td>\n",
       "      <td>Sharp, lactic</td>\n",
       "      <td>Uncooked</td>\n",
       "      <td>0</td>\n",
       "      <td>Firm Cheese</td>\n",
       "      <td>Ewe</td>\n",
       "      <td>Raw Milk</td>\n",
       "      <td>Washed Rind</td>\n",
       "      <td>Sieur de Duplessis (Le)</td>\n",
       "      <td>lower fat</td>\n",
       "    </tr>\n",
       "    <tr>\n",
       "      <th>1</th>\n",
       "      <td>242</td>\n",
       "      <td>NB</td>\n",
       "      <td>Farmstead</td>\n",
       "      <td>47.9</td>\n",
       "      <td>Sharp, lactic, lightly caramelized</td>\n",
       "      <td>Uncooked</td>\n",
       "      <td>0</td>\n",
       "      <td>Semi-soft Cheese</td>\n",
       "      <td>Cow</td>\n",
       "      <td>Raw Milk</td>\n",
       "      <td>Washed Rind</td>\n",
       "      <td>Tomme Le Champ Doré</td>\n",
       "      <td>lower fat</td>\n",
       "    </tr>\n",
       "    <tr>\n",
       "      <th>2</th>\n",
       "      <td>301</td>\n",
       "      <td>ON</td>\n",
       "      <td>Industrial</td>\n",
       "      <td>54.0</td>\n",
       "      <td>Mild, tangy, and fruity</td>\n",
       "      <td>Pressed and cooked cheese, pasta filata, inter...</td>\n",
       "      <td>0</td>\n",
       "      <td>Firm Cheese</td>\n",
       "      <td>Cow</td>\n",
       "      <td>Pasteurized</td>\n",
       "      <td>NaN</td>\n",
       "      <td>Provolone Sette Fette (Tre-Stelle)</td>\n",
       "      <td>lower fat</td>\n",
       "    </tr>\n",
       "    <tr>\n",
       "      <th>3</th>\n",
       "      <td>303</td>\n",
       "      <td>NB</td>\n",
       "      <td>Farmstead</td>\n",
       "      <td>47.0</td>\n",
       "      <td>Sharp with fruity notes and a hint of wild honey</td>\n",
       "      <td>NaN</td>\n",
       "      <td>0</td>\n",
       "      <td>Veined Cheeses</td>\n",
       "      <td>Cow</td>\n",
       "      <td>Raw Milk</td>\n",
       "      <td>NaN</td>\n",
       "      <td>Geai Bleu (Le)</td>\n",
       "      <td>lower fat</td>\n",
       "    </tr>\n",
       "    <tr>\n",
       "      <th>4</th>\n",
       "      <td>319</td>\n",
       "      <td>NB</td>\n",
       "      <td>Farmstead</td>\n",
       "      <td>49.4</td>\n",
       "      <td>Softer taste</td>\n",
       "      <td>NaN</td>\n",
       "      <td>1</td>\n",
       "      <td>Semi-soft Cheese</td>\n",
       "      <td>Cow</td>\n",
       "      <td>Raw Milk</td>\n",
       "      <td>Washed Rind</td>\n",
       "      <td>Gamin (Le)</td>\n",
       "      <td>lower fat</td>\n",
       "    </tr>\n",
       "  </tbody>\n",
       "</table>\n",
       "</div>"
      ],
      "text/plain": [
       "   CheeseId ManufacturerProvCode ManufacturingTypeEn  MoisturePercent  \\\n",
       "0       228                   NB           Farmstead             47.0   \n",
       "1       242                   NB           Farmstead             47.9   \n",
       "2       301                   ON          Industrial             54.0   \n",
       "3       303                   NB           Farmstead             47.0   \n",
       "4       319                   NB           Farmstead             49.4   \n",
       "\n",
       "                                          FlavourEn  \\\n",
       "0                                     Sharp, lactic   \n",
       "1                Sharp, lactic, lightly caramelized   \n",
       "2                           Mild, tangy, and fruity   \n",
       "3  Sharp with fruity notes and a hint of wild honey   \n",
       "4                                      Softer taste   \n",
       "\n",
       "                                   CharacteristicsEn  Organic  \\\n",
       "0                                           Uncooked        0   \n",
       "1                                           Uncooked        0   \n",
       "2  Pressed and cooked cheese, pasta filata, inter...        0   \n",
       "3                                                NaN        0   \n",
       "4                                                NaN        1   \n",
       "\n",
       "     CategoryTypeEn MilkTypeEn MilkTreatmentTypeEn   RindTypeEn  \\\n",
       "0       Firm Cheese        Ewe            Raw Milk  Washed Rind   \n",
       "1  Semi-soft Cheese        Cow            Raw Milk  Washed Rind   \n",
       "2       Firm Cheese        Cow         Pasteurized          NaN   \n",
       "3    Veined Cheeses        Cow            Raw Milk          NaN   \n",
       "4  Semi-soft Cheese        Cow            Raw Milk  Washed Rind   \n",
       "\n",
       "                           CheeseName   FatLevel  \n",
       "0             Sieur de Duplessis (Le)  lower fat  \n",
       "1                 Tomme Le Champ Doré  lower fat  \n",
       "2  Provolone Sette Fette (Tre-Stelle)  lower fat  \n",
       "3                      Geai Bleu (Le)  lower fat  \n",
       "4                          Gamin (Le)  lower fat  "
      ]
     },
     "execution_count": 4,
     "metadata": {},
     "output_type": "execute_result"
    }
   ],
   "source": [
    "# Display the first few rows of the dataset\n",
    "df.head()"
   ]
  },
  {
   "cell_type": "markdown",
   "id": "cc0d5c52",
   "metadata": {
    "papermill": {
     "duration": 0.005089,
     "end_time": "2024-09-27T16:07:21.730639",
     "exception": false,
     "start_time": "2024-09-27T16:07:21.725550",
     "status": "completed"
    },
    "tags": []
   },
   "source": [
    "### Data Cleaning and Preprocessing\n",
    "\n",
    "Before diving into analysis, we need to clean and preprocess the data. This includes handling missing values and converting data types if necessary."
   ]
  },
  {
   "cell_type": "code",
   "execution_count": 5,
   "id": "b0f18839",
   "metadata": {
    "execution": {
     "iopub.execute_input": "2024-09-27T16:07:21.743238Z",
     "iopub.status.busy": "2024-09-27T16:07:21.742815Z",
     "iopub.status.idle": "2024-09-27T16:07:21.754314Z",
     "shell.execute_reply": "2024-09-27T16:07:21.753308Z"
    },
    "papermill": {
     "duration": 0.020544,
     "end_time": "2024-09-27T16:07:21.756655",
     "exception": false,
     "start_time": "2024-09-27T16:07:21.736111",
     "status": "completed"
    },
    "tags": []
   },
   "outputs": [
    {
     "data": {
      "text/plain": [
       "CheeseId                  0\n",
       "ManufacturerProvCode      0\n",
       "ManufacturingTypeEn       0\n",
       "MoisturePercent          14\n",
       "FlavourEn               241\n",
       "CharacteristicsEn       399\n",
       "Organic                   0\n",
       "CategoryTypeEn           23\n",
       "MilkTypeEn                1\n",
       "MilkTreatmentTypeEn      65\n",
       "RindTypeEn              321\n",
       "CheeseName                0\n",
       "FatLevel                  0\n",
       "dtype: int64"
      ]
     },
     "execution_count": 5,
     "metadata": {},
     "output_type": "execute_result"
    }
   ],
   "source": [
    "# Check for missing values\n",
    "df.isnull().sum()"
   ]
  },
  {
   "cell_type": "code",
   "execution_count": 6,
   "id": "80fefe17",
   "metadata": {
    "execution": {
     "iopub.execute_input": "2024-09-27T16:07:21.770359Z",
     "iopub.status.busy": "2024-09-27T16:07:21.769338Z",
     "iopub.status.idle": "2024-09-27T16:07:21.775319Z",
     "shell.execute_reply": "2024-09-27T16:07:21.774383Z"
    },
    "papermill": {
     "duration": 0.015041,
     "end_time": "2024-09-27T16:07:21.777470",
     "exception": false,
     "start_time": "2024-09-27T16:07:21.762429",
     "status": "completed"
    },
    "tags": []
   },
   "outputs": [],
   "source": [
    "# Fill missing numeric values with the mean\n",
    "df['MoisturePercent'].fillna(df['MoisturePercent'].mean(), inplace=True)"
   ]
  },
  {
   "cell_type": "markdown",
   "id": "d412830f",
   "metadata": {
    "papermill": {
     "duration": 0.005585,
     "end_time": "2024-09-27T16:07:21.788891",
     "exception": false,
     "start_time": "2024-09-27T16:07:21.783306",
     "status": "completed"
    },
    "tags": []
   },
   "source": [
    "### Exploratory Data Analysis (EDA)\n",
    "\n",
    "Let's explore the data to uncover interesting patterns and insights."
   ]
  },
  {
   "cell_type": "code",
   "execution_count": 7,
   "id": "284f61f3",
   "metadata": {
    "execution": {
     "iopub.execute_input": "2024-09-27T16:07:21.801891Z",
     "iopub.status.busy": "2024-09-27T16:07:21.801509Z",
     "iopub.status.idle": "2024-09-27T16:07:22.255101Z",
     "shell.execute_reply": "2024-09-27T16:07:22.253983Z"
    },
    "papermill": {
     "duration": 0.462971,
     "end_time": "2024-09-27T16:07:22.257521",
     "exception": false,
     "start_time": "2024-09-27T16:07:21.794550",
     "status": "completed"
    },
    "tags": []
   },
   "outputs": [
    {
     "data": {
      "image/png": "[encoded data removed]",
      "text/plain": [
       "<Figure size 1000x600 with 1 Axes>"
      ]
     },
     "metadata": {},
     "output_type": "display_data"
    }
   ],
   "source": [
    "# Distribution of Moisture Percent\n",
    "plt.figure(figsize=(10, 6))\n",
    "sns.histplot(df['MoisturePercent'], kde=True, bins=30)\n",
    "plt.title('Distribution of Moisture Percent')\n",
    "plt.xlabel('Moisture Percent')\n",
    "plt.ylabel('Frequency')\n",
    "plt.show()"
   ]
  },
  {
   "cell_type": "code",
   "execution_count": 8,
   "id": "3d8c7a44",
   "metadata": {
    "execution": {
     "iopub.execute_input": "2024-09-27T16:07:22.273277Z",
     "iopub.status.busy": "2024-09-27T16:07:22.272839Z",
     "iopub.status.idle": "2024-09-27T16:07:22.514289Z",
     "shell.execute_reply": "2024-09-27T16:07:22.513177Z"
    },
    "papermill": {
     "duration": 0.252691,
     "end_time": "2024-09-27T16:07:22.516904",
     "exception": false,
     "start_time": "2024-09-27T16:07:22.264213",
     "status": "completed"
    },
    "tags": []
   },
   "outputs": [
    {
     "data": {
      "image/png": "[encoded data removed]",
      "text/plain": [
       "<Figure size 1000x600 with 1 Axes>"
      ]
     },
     "metadata": {},
     "output_type": "display_data"
    }
   ],
   "source": [
    "# Distribution of Organic vs Non-Organic Cheeses\n",
    "plt.figure(figsize=(10, 6))\n",
    "sns.countplot(x='Organic', data=df)\n",
    "plt.title('Distribution of Organic vs Non-Organic Cheeses')\n",
    "plt.xlabel('Organic')\n",
    "plt.ylabel('Count')\n",
    "plt.show()"
   ]
  },
  {
   "cell_type": "markdown",
   "id": "9b10db9e",
   "metadata": {
    "papermill": {
     "duration": 0.006712,
     "end_time": "2024-09-27T16:07:22.531070",
     "exception": false,
     "start_time": "2024-09-27T16:07:22.524358",
     "status": "completed"
    },
    "tags": []
   },
   "source": [
    "### Correlation Analysis\n",
    "\n",
    "Let's examine the correlation between numeric variables in the dataset."
   ]
  },
  {
   "cell_type": "code",
   "execution_count": 9,
   "id": "e2b582f5",
   "metadata": {
    "execution": {
     "iopub.execute_input": "2024-09-27T16:07:22.547726Z",
     "iopub.status.busy": "2024-09-27T16:07:22.546479Z",
     "iopub.status.idle": "2024-09-27T16:07:22.820139Z",
     "shell.execute_reply": "2024-09-27T16:07:22.819118Z"
    },
    "papermill": {
     "duration": 0.284441,
     "end_time": "2024-09-27T16:07:22.822485",
     "exception": false,
     "start_time": "2024-09-27T16:07:22.538044",
     "status": "completed"
    },
    "tags": []
   },
   "outputs": [
    {
     "data": {
      "image/png": "[encoded data removed]",
      "text/plain": [
       "<Figure size 1000x600 with 2 Axes>"
      ]
     },
     "metadata": {},
     "output_type": "display_data"
    }
   ],
   "source": [
    "# Select only numeric columns\n",
    "numeric_df = df.select_dtypes(include=[np.number])\n",
    "\n",
    "# Compute the correlation matrix\n",
    "corr_matrix = numeric_df.corr()\n",
    "\n",
    "# Plot the heatmap\n",
    "plt.figure(figsize=(10, 6))\n",
    "sns.heatmap(corr_matrix, annot=True, cmap='coolwarm', linewidths=0.5)\n",
    "plt.title('Correlation Heatmap')\n",
    "plt.show()"
   ]
  },
  {
   "cell_type": "markdown",
   "id": "c0d3bbef",
   "metadata": {
    "papermill": {
     "duration": 0.007673,
     "end_time": "2024-09-27T16:07:22.838487",
     "exception": false,
     "start_time": "2024-09-27T16:07:22.830814",
     "status": "completed"
    },
    "tags": []
   },
   "source": [
    "### Predicting Cheese Characteristics\n",
    "\n",
    "Based on the data, it might be interesting to predict whether a cheese is organic or not based on its other characteristics."
   ]
  },
  {
   "cell_type": "code",
   "execution_count": 10,
   "id": "6d817335",
   "metadata": {
    "execution": {
     "iopub.execute_input": "2024-09-27T16:07:22.856157Z",
     "iopub.status.busy": "2024-09-27T16:07:22.855563Z",
     "iopub.status.idle": "2024-09-27T16:07:23.134386Z",
     "shell.execute_reply": "2024-09-27T16:07:23.133181Z"
    },
    "papermill": {
     "duration": 0.290551,
     "end_time": "2024-09-27T16:07:23.136786",
     "exception": false,
     "start_time": "2024-09-27T16:07:22.846235",
     "status": "completed"
    },
    "tags": []
   },
   "outputs": [
    {
     "data": {
      "text/plain": [
       "(0.9265175718849841,\n",
       " '              precision    recall  f1-score   support\\n\\n           0       0.93      0.99      0.96       291\\n           1       0.33      0.05      0.08        22\\n\\n    accuracy                           0.93       313\\n   macro avg       0.63      0.52      0.52       313\\nweighted avg       0.89      0.93      0.90       313\\n',\n",
       " array([[289,   2],\n",
       "        [ 21,   1]]))"
      ]
     },
     "execution_count": 10,
     "metadata": {},
     "output_type": "execute_result"
    }
   ],
   "source": [
    "# Prepare the data for prediction\n",
    "X = df[['MoisturePercent']]\n",
    "y = df['Organic']\n",
    "\n",
    "# Split the data into training and testing sets\n",
    "X_train, X_test, y_train, y_test = train_test_split(X, y, test_size=0.3, random_state=42)\n",
    "\n",
    "# Initialize and train the model\n",
    "model = RandomForestClassifier(random_state=42)\n",
    "model.fit(X_train, y_train)\n",
    "\n",
    "# Make predictions\n",
    "y_pred = model.predict(X_test)\n",
    "\n",
    "# Evaluate the model\n",
    "accuracy = accuracy_score(y_test, y_pred)\n",
    "classification_rep = classification_report(y_test, y_pred)\n",
    "conf_matrix = confusion_matrix(y_test, y_pred)\n",
    "\n",
    "accuracy, classification_rep, conf_matrix"
   ]
  },
  {
   "cell_type": "markdown",
   "id": "bfa04d5b",
   "metadata": {
    "papermill": {
     "duration": 0.007705,
     "end_time": "2024-09-27T16:07:23.152582",
     "exception": false,
     "start_time": "2024-09-27T16:07:23.144877",
     "status": "completed"
    },
    "tags": []
   },
   "source": [
    "### Conclusion and Future Work\n",
    "\n",
    "In this notebook, we explored the Canadian Cheese Directory dataset, performed some initial data cleaning, and conducted exploratory data analysis. We also built a simple model to predict whether a cheese is organic based on its moisture content.\n",
    "\n",
    "Future analysis could include:\n",
    "- Exploring other features for prediction\n",
    "- Building more complex models\n",
    "- Analyzing the impact of different cheese characteristics on flavor\n",
    "\n",
    "What do you think would be useful to explore next?"
   ]
  },
  {
   "cell_type": "markdown",
   "id": "e41f7dfc",
   "metadata": {
    "papermill": {
     "duration": 0.007494,
     "end_time": "2024-09-27T16:07:23.168162",
     "exception": false,
     "start_time": "2024-09-27T16:07:23.160668",
     "status": "completed"
    },
    "tags": []
   },
   "source": [
    "## Credits\n",
    "This notebook was created with the help of [Devra AI data science assistant](https://devra.ai/ref/kaggle)"
   ]
  }
 ],
 "metadata": {
  "kernelspec": {
   "display_name": "Python 3",
   "language": "python",
   "name": "python3"
  },
  "language_info": {
   "codemirror_mode": {
    "name": "ipython",
    "version": 3
   },
   "file_extension": ".py",
   "mimetype": "text/x-python",
   "name": "python",
   "nbconvert_exporter": "python",
   "pygments_lexer": "ipython3",
   "version": "3.10.14"
  },
  "papermill": {
   "default_parameters": {},
   "duration": 8.01981,
   "end_time": "2024-09-27T16:07:23.797536",
   "environment_variables": {},
   "exception": null,
   "input_path": "__notebook__.ipynb",
   "output_path": "__notebook__.ipynb",
   "parameters": {},
   "start_time": "2024-09-27T16:07:15.777726",
   "version": "2.6.0"
  }
 },
 "nbformat": 4,
 "nbformat_minor": 5
}
